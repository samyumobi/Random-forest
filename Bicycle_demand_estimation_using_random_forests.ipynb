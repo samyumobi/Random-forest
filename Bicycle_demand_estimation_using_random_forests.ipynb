{
  "nbformat": 4,
  "nbformat_minor": 0,
  "metadata": {
    "colab": {
      "name": "Bicycle demand estimation using random forests.ipynb",
      "provenance": [],
      "mount_file_id": "1Ux25THCZieDe3lZDrs8x6RLc6xKYaYzi",
      "authorship_tag": "ABX9TyOFBABz8smxygnd71hXS1SI",
      "include_colab_link": true
    },
    "kernelspec": {
      "name": "python3",
      "display_name": "Python 3"
    },
    "language_info": {
      "name": "python"
    }
  },
  "cells": [
    {
      "cell_type": "markdown",
      "metadata": {
        "id": "view-in-github",
        "colab_type": "text"
      },
      "source": [
        "<a href=\"https://colab.research.google.com/github/samyumobi/Random-forest/blob/main/Bicycle_demand_estimation_using_random_forests.ipynb\" target=\"_parent\"><img src=\"https://colab.research.google.com/assets/colab-badge.svg\" alt=\"Open In Colab\"/></a>"
      ]
    },
    {
      "cell_type": "code",
      "metadata": {
        "id": "1j8Pvzkq1O2x"
      },
      "source": [
        "import pandas as pd\n",
        "import numpy as np\n",
        "from sklearn.model_selection import train_test_split\n",
        "from sklearn.ensemble import RandomForestRegressor\n",
        "import matplotlib.pyplot as plt\n",
        "from sklearn.metrics import mean_squared_error, \n",
        "explained_variance_score\n"
      ],
      "execution_count": 1,
      "outputs": []
    },
    {
      "cell_type": "code",
      "metadata": {
        "colab": {
          "base_uri": "https://localhost:8080/",
          "height": 213
        },
        "id": "00BKanRx45o8",
        "outputId": "0fe46c2b-b20e-4b9e-e305-76f493b2cd5f"
      },
      "source": [
        "df = pd.read_csv('/content/drive/MyDrive/AI_ML_Git/RF/bike_data.csv - Sheet1.csv')\n",
        "df.head(3)"
      ],
      "execution_count": 2,
      "outputs": [
        {
          "output_type": "execute_result",
          "data": {
            "text/html": [
              "<div>\n",
              "<style scoped>\n",
              "    .dataframe tbody tr th:only-of-type {\n",
              "        vertical-align: middle;\n",
              "    }\n",
              "\n",
              "    .dataframe tbody tr th {\n",
              "        vertical-align: top;\n",
              "    }\n",
              "\n",
              "    .dataframe thead th {\n",
              "        text-align: right;\n",
              "    }\n",
              "</style>\n",
              "<table border=\"1\" class=\"dataframe\">\n",
              "  <thead>\n",
              "    <tr style=\"text-align: right;\">\n",
              "      <th></th>\n",
              "      <th>Unnamed: 0</th>\n",
              "      <th>Unnamed: 1</th>\n",
              "      <th>Unnamed: 2</th>\n",
              "      <th>Unnamed: 3</th>\n",
              "      <th>Unnamed: 4</th>\n",
              "      <th>Unnamed: 5</th>\n",
              "      <th>Unnamed: 6</th>\n",
              "      <th>Unnamed: 7</th>\n",
              "      <th>Unnamed: 8</th>\n",
              "      <th>Unnamed: 9</th>\n",
              "      <th>Unnamed: 10</th>\n",
              "      <th>Unnamed: 11</th>\n",
              "      <th>Unnamed: 12</th>\n",
              "      <th>Unnamed: 13</th>\n",
              "      <th>Unnamed: 14</th>\n",
              "      <th>Unnamed: 15</th>\n",
              "    </tr>\n",
              "  </thead>\n",
              "  <tbody>\n",
              "    <tr>\n",
              "      <th>0</th>\n",
              "      <td>instant</td>\n",
              "      <td>dteday</td>\n",
              "      <td>season</td>\n",
              "      <td>yr</td>\n",
              "      <td>mnth</td>\n",
              "      <td>holiday</td>\n",
              "      <td>weekday</td>\n",
              "      <td>workingday</td>\n",
              "      <td>weathersit</td>\n",
              "      <td>temp</td>\n",
              "      <td>atemp</td>\n",
              "      <td>hum</td>\n",
              "      <td>windspeed</td>\n",
              "      <td>casual</td>\n",
              "      <td>registered</td>\n",
              "      <td>cnt</td>\n",
              "    </tr>\n",
              "    <tr>\n",
              "      <th>1</th>\n",
              "      <td>1</td>\n",
              "      <td>2011-01-01</td>\n",
              "      <td>1</td>\n",
              "      <td>0</td>\n",
              "      <td>1</td>\n",
              "      <td>0</td>\n",
              "      <td>6</td>\n",
              "      <td>0</td>\n",
              "      <td>2</td>\n",
              "      <td>0.344167</td>\n",
              "      <td>0.363625</td>\n",
              "      <td>0.805833</td>\n",
              "      <td>0.160446</td>\n",
              "      <td>331</td>\n",
              "      <td>654</td>\n",
              "      <td>985</td>\n",
              "    </tr>\n",
              "    <tr>\n",
              "      <th>2</th>\n",
              "      <td>2</td>\n",
              "      <td>2011-01-02</td>\n",
              "      <td>1</td>\n",
              "      <td>0</td>\n",
              "      <td>1</td>\n",
              "      <td>0</td>\n",
              "      <td>0</td>\n",
              "      <td>0</td>\n",
              "      <td>2</td>\n",
              "      <td>0.363478</td>\n",
              "      <td>0.353739</td>\n",
              "      <td>0.696087</td>\n",
              "      <td>0.248539</td>\n",
              "      <td>131</td>\n",
              "      <td>670</td>\n",
              "      <td>801</td>\n",
              "    </tr>\n",
              "  </tbody>\n",
              "</table>\n",
              "</div>"
            ],
            "text/plain": [
              "  Unnamed: 0  Unnamed: 1 Unnamed: 2  ... Unnamed: 13 Unnamed: 14 Unnamed: 15\n",
              "0    instant      dteday     season  ...      casual  registered         cnt\n",
              "1          1  2011-01-01          1  ...         331         654         985\n",
              "2          2  2011-01-02          1  ...         131         670         801\n",
              "\n",
              "[3 rows x 16 columns]"
            ]
          },
          "metadata": {},
          "execution_count": 2
        }
      ]
    },
    {
      "cell_type": "code",
      "metadata": {
        "id": "Mi4rrQDz6CfX"
      },
      "source": [
        "## Make the first row data as new header\n",
        "\n",
        "new_header = df.iloc[0]\n",
        "df = df[1:]\n",
        "df.columns = new_header\n"
      ],
      "execution_count": 3,
      "outputs": []
    },
    {
      "cell_type": "code",
      "metadata": {
        "colab": {
          "base_uri": "https://localhost:8080/",
          "height": 142
        },
        "id": "9ZlkBQy_6RBU",
        "outputId": "fa9bc7a3-b0ce-48e8-d3ee-8a88a7146376"
      },
      "source": [
        "df.head(3)"
      ],
      "execution_count": 4,
      "outputs": [
        {
          "output_type": "execute_result",
          "data": {
            "text/html": [
              "<div>\n",
              "<style scoped>\n",
              "    .dataframe tbody tr th:only-of-type {\n",
              "        vertical-align: middle;\n",
              "    }\n",
              "\n",
              "    .dataframe tbody tr th {\n",
              "        vertical-align: top;\n",
              "    }\n",
              "\n",
              "    .dataframe thead th {\n",
              "        text-align: right;\n",
              "    }\n",
              "</style>\n",
              "<table border=\"1\" class=\"dataframe\">\n",
              "  <thead>\n",
              "    <tr style=\"text-align: right;\">\n",
              "      <th></th>\n",
              "      <th>instant</th>\n",
              "      <th>dteday</th>\n",
              "      <th>season</th>\n",
              "      <th>yr</th>\n",
              "      <th>mnth</th>\n",
              "      <th>holiday</th>\n",
              "      <th>weekday</th>\n",
              "      <th>workingday</th>\n",
              "      <th>weathersit</th>\n",
              "      <th>temp</th>\n",
              "      <th>atemp</th>\n",
              "      <th>hum</th>\n",
              "      <th>windspeed</th>\n",
              "      <th>casual</th>\n",
              "      <th>registered</th>\n",
              "      <th>cnt</th>\n",
              "    </tr>\n",
              "  </thead>\n",
              "  <tbody>\n",
              "    <tr>\n",
              "      <th>1</th>\n",
              "      <td>1</td>\n",
              "      <td>2011-01-01</td>\n",
              "      <td>1</td>\n",
              "      <td>0</td>\n",
              "      <td>1</td>\n",
              "      <td>0</td>\n",
              "      <td>6</td>\n",
              "      <td>0</td>\n",
              "      <td>2</td>\n",
              "      <td>0.344167</td>\n",
              "      <td>0.363625</td>\n",
              "      <td>0.805833</td>\n",
              "      <td>0.160446</td>\n",
              "      <td>331</td>\n",
              "      <td>654</td>\n",
              "      <td>985</td>\n",
              "    </tr>\n",
              "    <tr>\n",
              "      <th>2</th>\n",
              "      <td>2</td>\n",
              "      <td>2011-01-02</td>\n",
              "      <td>1</td>\n",
              "      <td>0</td>\n",
              "      <td>1</td>\n",
              "      <td>0</td>\n",
              "      <td>0</td>\n",
              "      <td>0</td>\n",
              "      <td>2</td>\n",
              "      <td>0.363478</td>\n",
              "      <td>0.353739</td>\n",
              "      <td>0.696087</td>\n",
              "      <td>0.248539</td>\n",
              "      <td>131</td>\n",
              "      <td>670</td>\n",
              "      <td>801</td>\n",
              "    </tr>\n",
              "    <tr>\n",
              "      <th>3</th>\n",
              "      <td>3</td>\n",
              "      <td>2011-01-03</td>\n",
              "      <td>1</td>\n",
              "      <td>0</td>\n",
              "      <td>1</td>\n",
              "      <td>0</td>\n",
              "      <td>1</td>\n",
              "      <td>1</td>\n",
              "      <td>1</td>\n",
              "      <td>0.196364</td>\n",
              "      <td>0.189405</td>\n",
              "      <td>0.437273</td>\n",
              "      <td>0.248309</td>\n",
              "      <td>120</td>\n",
              "      <td>1229</td>\n",
              "      <td>1349</td>\n",
              "    </tr>\n",
              "  </tbody>\n",
              "</table>\n",
              "</div>"
            ],
            "text/plain": [
              "0 instant      dteday season yr  ... windspeed casual registered   cnt\n",
              "1       1  2011-01-01      1  0  ...  0.160446    331        654   985\n",
              "2       2  2011-01-02      1  0  ...  0.248539    131        670   801\n",
              "3       3  2011-01-03      1  0  ...  0.248309    120       1229  1349\n",
              "\n",
              "[3 rows x 16 columns]"
            ]
          },
          "metadata": {},
          "execution_count": 4
        }
      ]
    },
    {
      "cell_type": "code",
      "metadata": {
        "colab": {
          "base_uri": "https://localhost:8080/"
        },
        "id": "Wblzm1aM6hwh",
        "outputId": "502457cf-2ecc-4f26-8d8d-4365f510f6fb"
      },
      "source": [
        "feature_names = list(df.columns)\n",
        "print(feature_names)"
      ],
      "execution_count": 5,
      "outputs": [
        {
          "output_type": "stream",
          "name": "stdout",
          "text": [
            "['instant', 'dteday', 'season', 'yr', 'mnth', 'holiday', 'weekday', 'workingday', 'weathersit', 'temp', 'atemp', 'hum', 'windspeed', 'casual', 'registered', 'cnt']\n"
          ]
        }
      ]
    },
    {
      "cell_type": "code",
      "metadata": {
        "id": "Q8IFCugu6vVY"
      },
      "source": [
        "X = df.iloc[:,2:14].values\n",
        "# X = df.iloc[:,2:15].values\n",
        "# X = df.iloc[:,2:13].values\n",
        "y = df.iloc[:,-1].values\n"
      ],
      "execution_count": 21,
      "outputs": []
    },
    {
      "cell_type": "code",
      "metadata": {
        "id": "uBaoSBxz9txZ"
      },
      "source": [
        "\n",
        "xtrain, xtest, ytrain,ytest = train_test_split(X,y , test_size = 0.33)\n",
        "\n",
        "reg = RandomForestRegressor(n_estimators= 1000, max_depth = 10)\n",
        "reg.fit(xtrain, ytrain)\n",
        "ypred = reg.predict(xtest)"
      ],
      "execution_count": 22,
      "outputs": []
    },
    {
      "cell_type": "code",
      "metadata": {
        "colab": {
          "base_uri": "https://localhost:8080/"
        },
        "id": "xV9BAvPv_RZ9",
        "outputId": "0f6a608f-3ba3-4e12-8ee1-d44c85716112"
      },
      "source": [
        "\n",
        "mse = mean_squared_error(ytest, ypred)\n",
        "evs = explained_variance_score(ytest, ypred)\n",
        "print('#### Random Forest regressor performance ####')\n",
        "print('Mean squared error = ', round(mse,2))\n",
        "print('Explained variance score = ', round(evs,2))\n"
      ],
      "execution_count": 23,
      "outputs": [
        {
          "output_type": "stream",
          "name": "stdout",
          "text": [
            "#### Random Forest regressor performance ####\n",
            "Mean squared error =  292271.63\n",
            "Explained variance score =  0.92\n"
          ]
        }
      ]
    },
    {
      "cell_type": "code",
      "metadata": {
        "id": "1iFA9BbP_wR0"
      },
      "source": [
        "### Extract feature importance\n",
        "\n",
        "fi = reg.feature_importances_\n",
        "# fi = 100.0 * (fi / max(fi))\n",
        "indices = np.argsort(fi)\n",
        "# pos = np.arange(index_sorted.shape[0]) + 0.5"
      ],
      "execution_count": 24,
      "outputs": []
    },
    {
      "cell_type": "code",
      "metadata": {
        "colab": {
          "base_uri": "https://localhost:8080/",
          "height": 295
        },
        "id": "Vc9EE9noAnhQ",
        "outputId": "f5c63a41-2c90-46b1-da75-787eb762116c"
      },
      "source": [
        "## Visualize the results\n",
        "plt.figure()\n",
        "plt.barh(range(len(indices)),fi[indices],color='r',align = 'center')\n",
        "# plt.bar(pos, fi[index_sorted], align = 'center')\n",
        "plt.yticks(range(len(indices)),[feature_names[2:][i] for i in indices])\n",
        "plt.xlabel('Relative importance')\n",
        "plt.title('Random forest regression')\n",
        "plt.show()"
      ],
      "execution_count": 25,
      "outputs": [
        {
          "output_type": "display_data",
          "data": {
            "image/png": "[encoded data removed]",
            "text/plain": [
              "<Figure size 432x288 with 1 Axes>"
            ]
          },
          "metadata": {
            "needs_background": "light"
          }
        }
      ]
    },
    {
      "cell_type": "markdown",
      "metadata": {
        "id": "161rZ_0gv7A_"
      },
      "source": [
        "**Observation:**\n",
        "\n",
        "1. The feature year, temperature and season is most important factor in bicycle sales. \n",
        "\n",
        "  ie : X = columns 2, 13\n",
        "\n",
        "2. The feature registered and casual are overall most important features in estimation of bicycle sales.\n",
        "\n",
        "  ie: X = columns between 2 to 15\n",
        "\n",
        "3. The feature year and casual are most important features in estimation of bicycle sales.\n",
        "\n",
        "  ie: X = columns between 2 to 14\n",
        "\n",
        "\n",
        "\n"
      ]
    },
    {
      "cell_type": "markdown",
      "metadata": {
        "id": "RQEbyAiux_9O"
      },
      "source": [
        "**Summary**\n",
        "\n",
        "First important feature is casual (ie: hour) , year followed by temperature and season. "
      ]
    }
  ]
}